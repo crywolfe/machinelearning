{
  "nbformat": 4,
  "nbformat_minor": 0,
  "metadata": {
    "colab": {
      "name": "NISC TOY PROJECT.ipynb",
      "version": "0.3.2",
      "provenance": [],
      "collapsed_sections": [],
      "include_colab_link": true
    },
    "kernelspec": {
      "name": "python3",
      "display_name": "Python 3"
    }
  },
  "cells": [
    {
      "cell_type": "markdown",
      "metadata": {
        "id": "view-in-github",
        "colab_type": "text"
      },
      "source": [
        "[View in Colaboratory](https://colab.research.google.com/github/crywolfe/machinelearning/blob/master/NISC_TOY_PROJECT.ipynb)"
      ]
    },
    {
      "metadata": {
        "id": "tBy6qZiDMeyR",
        "colab_type": "text"
      },
      "cell_type": "markdown",
      "source": [
        "#NISC TOY PROJECT#"
      ]
    },
    {
      "metadata": {
        "id": "E37zbbjjMmQv",
        "colab_type": "text"
      },
      "cell_type": "markdown",
      "source": [
        "###STEP 1###"
      ]
    },
    {
      "metadata": {
        "id": "pVaZfIEaMlG_",
        "colab_type": "code",
        "colab": {}
      },
      "cell_type": "code",
      "source": [
        ""
      ],
      "execution_count": 0,
      "outputs": []
    },
    {
      "metadata": {
        "id": "kRf3gSXFMu_g",
        "colab_type": "text"
      },
      "cell_type": "markdown",
      "source": [
        "\n",
        "*   Choose Tag from Kaggle (business, finance, money)\n",
        "*  \"Complete CryptoCurrency\" or \n",
        "\n"
      ]
    },
    {
      "metadata": {
        "id": "J-CBiZd-Mzhe",
        "colab_type": "code",
        "colab": {
          "base_uri": "https://localhost:8080/",
          "height": 34
        },
        "outputId": "c0c82eea-2ebd-4af9-ba61-8cca7e19fd7c"
      },
      "cell_type": "code",
      "source": [
        "s = \"string12\"\n",
        "print(s)"
      ],
      "execution_count": 0,
      "outputs": [
        {
          "output_type": "stream",
          "text": [
            "string12\n"
          ],
          "name": "stdout"
        }
      ]
    },
    {
      "metadata": {
        "id": "IJfIEKDgPgvW",
        "colab_type": "text"
      },
      "cell_type": "markdown",
      "source": [
        "Do I need to pre-process any data?\n",
        "\n"
      ]
    },
    {
      "metadata": {
        "id": "2EdLR_dRPg9_",
        "colab_type": "text"
      },
      "cell_type": "markdown",
      "source": [
        ""
      ]
    },
    {
      "metadata": {
        "id": "8H0gbAt7PhM3",
        "colab_type": "text"
      },
      "cell_type": "markdown",
      "source": [
        ""
      ]
    },
    {
      "metadata": {
        "id": "wmB7ER-APbkt",
        "colab_type": "text"
      },
      "cell_type": "markdown",
      "source": [
        "BOTTOM CELL"
      ]
    },
    {
      "metadata": {
        "id": "fLAE2mqDPevF",
        "colab_type": "code",
        "colab": {}
      },
      "cell_type": "code",
      "source": [
        "import numpy as np\n",
        "import pandas as pd"
      ],
      "execution_count": 0,
      "outputs": []
    },
    {
      "metadata": {
        "id": "e3wgC64CCJ6s",
        "colab_type": "code",
        "colab": {}
      },
      "cell_type": "code",
      "source": [
        "from google.colab import files\n",
        "uploaded = files.upload()"
      ],
      "execution_count": 0,
      "outputs": []
    },
    {
      "metadata": {
        "id": "Fe3WWADoDuN-",
        "colab_type": "code",
        "colab": {}
      },
      "cell_type": "code",
      "source": [
        "import zipfile\n",
        "import io\n",
        "zf = zipfile.ZipFile(io.BytesIO(uploaded['cryptocurrency-market-history.zip']), \"r\")\n",
        "zf.extractall()"
      ],
      "execution_count": 0,
      "outputs": []
    },
    {
      "metadata": {
        "id": "2BbTn89REbEe",
        "colab_type": "code",
        "colab": {
          "base_uri": "https://localhost:8080/",
          "height": 527
        },
        "outputId": "fd1cd8c5-bad9-406d-feae-dc6766c01920"
      },
      "cell_type": "code",
      "source": [
        "%ls\n"
      ],
      "execution_count": 11,
      "outputs": [
        {
          "output_type": "stream",
          "text": [
            "all_currencies.csv\r\n",
            "\u001b[0m\u001b[01;34mbin\u001b[0m/\r\n",
            "\u001b[01;34mboot\u001b[0m/\r\n",
            "\u001b[01;34mcolabtools\u001b[0m/\r\n",
            "\u001b[01;34mcontent\u001b[0m/\r\n",
            "cryptocurrency-market-history.zip\r\n",
            "\u001b[01;34mdatalab\u001b[0m/\r\n",
            "\u001b[01;34mdev\u001b[0m/\r\n",
            "\u001b[01;34metc\u001b[0m/\r\n",
            "gpu-tensorflow-1.9.0-cp27-cp27mu-linux_x86_64.whl\r\n",
            "gpu-tensorflow-1.9.0-cp36-cp36m-linux_x86_64.whl\r\n",
            "\u001b[01;34mhome\u001b[0m/\r\n",
            "\u001b[01;34mlib\u001b[0m/\r\n",
            "\u001b[01;34mlib64\u001b[0m/\r\n",
            "\u001b[01;34mmedia\u001b[0m/\r\n",
            "\u001b[01;34mmnt\u001b[0m/\r\n",
            "\u001b[01;34mopt\u001b[0m/\r\n",
            "\u001b[01;34mproc\u001b[0m/\r\n",
            "\u001b[01;34mroot\u001b[0m/\r\n",
            "\u001b[01;34mrun\u001b[0m/\r\n",
            "\u001b[01;34msbin\u001b[0m/\r\n",
            "\u001b[01;34msrv\u001b[0m/\r\n",
            "\u001b[01;34msys\u001b[0m/\r\n",
            "tensorflow-1.9.0-cp27-cp27mu-linux_x86_64.whl\r\n",
            "tensorflow-1.9.0-cp36-cp36m-linux_x86_64.whl\r\n",
            "\u001b[01;34mtf_deps\u001b[0m/\r\n",
            "\u001b[30;42mtmp\u001b[0m/\r\n",
            "\u001b[01;34mtools\u001b[0m/\r\n",
            "\u001b[01;34musr\u001b[0m/\r\n",
            "\u001b[01;34mvar\u001b[0m/\r\n"
          ],
          "name": "stdout"
        }
      ]
    },
    {
      "metadata": {
        "id": "YMIPOSYuEcxd",
        "colab_type": "code",
        "colab": {}
      },
      "cell_type": "code",
      "source": [
        "crypto_data = pd.read_csv('all_currencies.csv')"
      ],
      "execution_count": 0,
      "outputs": []
    },
    {
      "metadata": {
        "id": "ohl-j35THE3I",
        "colab_type": "code",
        "colab": {
          "base_uri": "https://localhost:8080/",
          "height": 68
        },
        "outputId": "71bacb07-73a4-4339-e30a-01887ad3088b"
      },
      "cell_type": "code",
      "source": [
        "crypto_data.columns\n"
      ],
      "execution_count": 14,
      "outputs": [
        {
          "output_type": "execute_result",
          "data": {
            "text/plain": [
              "Index(['Unnamed: 0', 'Date', 'Symbol', 'Open', 'High', 'Low', 'Close',\n",
              "       'Volume', 'Market Cap'],\n",
              "      dtype='object')"
            ]
          },
          "metadata": {
            "tags": []
          },
          "execution_count": 14
        }
      ]
    },
    {
      "metadata": {
        "id": "wuiOxiCBHHAo",
        "colab_type": "code",
        "colab": {
          "base_uri": "https://localhost:8080/",
          "height": 34
        },
        "outputId": "bfad343d-ed79-4623-f02f-a2a2d17be98b"
      },
      "cell_type": "code",
      "source": [
        "crypto_data.shape"
      ],
      "execution_count": 17,
      "outputs": [
        {
          "output_type": "execute_result",
          "data": {
            "text/plain": [
              "(645784, 9)"
            ]
          },
          "metadata": {
            "tags": []
          },
          "execution_count": 17
        }
      ]
    },
    {
      "metadata": {
        "id": "G5fAlFKxHr6n",
        "colab_type": "code",
        "colab": {}
      },
      "cell_type": "code",
      "source": [
        ""
      ],
      "execution_count": 0,
      "outputs": []
    }
  ]
}